{
 "cells": [
  {
   "cell_type": "code",
   "execution_count": 1,
   "metadata": {
    "collapsed": true
   },
   "outputs": [],
   "source": [
    "from zaifapi import *\n",
    "api_key = 'b96a9b28-c9d3-4406-b6e3-a20f9de3077b'\n",
    "api_secret = '136216b4-fb3a-459f-b089-244eac6ac7da'"
   ]
  },
  {
   "cell_type": "code",
   "execution_count": 2,
   "metadata": {},
   "outputs": [
    {
     "data": {
      "text/plain": [
       "{'funds': {'CICC': 1702.5,\n",
       "  'FSCC': 425.0,\n",
       "  'PEPECASH': 299.0,\n",
       "  'SJCX': 13.0,\n",
       "  'ZAIF': 108762.6,\n",
       "  'btc': 0.0,\n",
       "  'jpy': 32152.61190333,\n",
       "  'mona': 530.0,\n",
       "  'xem': 2842.93},\n",
       " 'order_id': 0,\n",
       " 'received': 1.040958,\n",
       " 'remains': 0.0}"
      ]
     },
     "execution_count": 2,
     "metadata": {},
     "output_type": "execute_result"
    }
   ],
   "source": [
    "zaif = ZaifTradeApi(api_key, api_secret)\n",
    "zaif.trade(currency_pair='zaif_jpy',\n",
    "           action='ask',\n",
    "           amount=1,\n",
    "           price=1.0416,\n",
    "           limit=1.0415)"
   ]
  },
  {
   "cell_type": "code",
   "execution_count": 3,
   "metadata": {},
   "outputs": [
    {
     "data": {
      "text/plain": [
       "{'funds': {'CICC': 1702.5,\n",
       "  'FSCC': 425.0,\n",
       "  'PEPECASH': 299.0,\n",
       "  'SJCX': 13.0,\n",
       "  'ZAIF': 108762.6,\n",
       "  'btc': 0.0,\n",
       "  'jpy': 32152.61190333,\n",
       "  'mona': 530.0,\n",
       "  'xem': 2842.93},\n",
       " 'order_id': 1826415,\n",
       " 'received': 0.0,\n",
       " 'remains': 1.0}"
      ]
     },
     "execution_count": 3,
     "metadata": {},
     "output_type": "execute_result"
    }
   ],
   "source": [
    "zaif.trade(currency_pair='zaif_jpy',\n",
    "           action='ask',\n",
    "           amount=1,\n",
    "           price=1.0416,\n",
    "           limit=1.0414)"
   ]
  },
  {
   "cell_type": "code",
   "execution_count": 4,
   "metadata": {},
   "outputs": [
    {
     "data": {
      "text/plain": [
       "{'funds': {'CICC': 1702.5,\n",
       "  'FSCC': 425.0,\n",
       "  'PEPECASH': 299.0,\n",
       "  'SJCX': 13.0,\n",
       "  'ZAIF': 108761.6,\n",
       "  'btc': 0.0,\n",
       "  'jpy': 32152.61190333,\n",
       "  'mona': 530.0,\n",
       "  'xem': 2842.93},\n",
       " 'order_id': 1826420,\n",
       " 'received': 0.0,\n",
       " 'remains': 1.0}"
      ]
     },
     "execution_count": 4,
     "metadata": {},
     "output_type": "execute_result"
    }
   ],
   "source": [
    "zaif.trade(currency_pair='zaif_jpy',\n",
    "           action='ask',\n",
    "           amount=1,\n",
    "           price=1.0416,\n",
    "           limit=1.0413)"
   ]
  },
  {
   "cell_type": "code",
   "execution_count": 5,
   "metadata": {},
   "outputs": [
    {
     "data": {
      "text/plain": [
       "{'funds': {'CICC': 1702.5,\n",
       "  'FSCC': 425.0,\n",
       "  'PEPECASH': 299.0,\n",
       "  'SJCX': 13.0,\n",
       "  'ZAIF': 108760.6,\n",
       "  'btc': 0.0,\n",
       "  'jpy': 32152.61190333,\n",
       "  'mona': 530.0,\n",
       "  'xem': 2842.93},\n",
       " 'order_id': 1826439,\n",
       " 'received': 0.0,\n",
       " 'remains': 1.0}"
      ]
     },
     "execution_count": 5,
     "metadata": {},
     "output_type": "execute_result"
    }
   ],
   "source": [
    "zaif.trade(currency_pair='zaif_jpy',\n",
    "           action='ask',\n",
    "           amount=1,\n",
    "           price=1.0416,\n",
    "           limit=1.0412)"
   ]
  },
  {
   "cell_type": "code",
   "execution_count": 6,
   "metadata": {},
   "outputs": [
    {
     "data": {
      "text/plain": [
       "{'funds': {'CICC': 1702.5,\n",
       "  'FSCC': 425.0,\n",
       "  'PEPECASH': 299.0,\n",
       "  'SJCX': 13.0,\n",
       "  'ZAIF': 108759.6,\n",
       "  'btc': 0.0,\n",
       "  'jpy': 32152.61280333,\n",
       "  'mona': 530.0,\n",
       "  'xem': 2842.93},\n",
       " 'order_id': 1826476,\n",
       " 'received': 0.0,\n",
       " 'remains': 1.0}"
      ]
     },
     "execution_count": 6,
     "metadata": {},
     "output_type": "execute_result"
    }
   ],
   "source": [
    "zaif.trade(currency_pair='zaif_jpy',\n",
    "           action='ask',\n",
    "           amount=1,\n",
    "           price=1.0417,\n",
    "           limit=1.0415)"
   ]
  },
  {
   "cell_type": "code",
   "execution_count": 7,
   "metadata": {},
   "outputs": [
    {
     "data": {
      "text/plain": [
       "{'funds': {'CICC': 1702.5,\n",
       "  'FSCC': 425.0,\n",
       "  'PEPECASH': 299.0,\n",
       "  'SJCX': 13.0,\n",
       "  'ZAIF': 108758.6,\n",
       "  'btc': 0.0,\n",
       "  'jpy': 32152.61280333,\n",
       "  'mona': 530.0,\n",
       "  'xem': 2842.93},\n",
       " 'order_id': 1826484,\n",
       " 'received': 0.0,\n",
       " 'remains': 1.0}"
      ]
     },
     "execution_count": 7,
     "metadata": {},
     "output_type": "execute_result"
    }
   ],
   "source": [
    "zaif.trade(currency_pair='zaif_jpy',\n",
    "           action='ask',\n",
    "           amount=1,\n",
    "           price=1.0418,\n",
    "           limit=1.0415)"
   ]
  },
  {
   "cell_type": "code",
   "execution_count": 8,
   "metadata": {},
   "outputs": [
    {
     "data": {
      "text/plain": [
       "{'funds': {'CICC': 1702.5,\n",
       "  'FSCC': 425.0,\n",
       "  'PEPECASH': 299.0,\n",
       "  'SJCX': 13.0,\n",
       "  'ZAIF': 108757.6,\n",
       "  'btc': 0.0,\n",
       "  'jpy': 32152.62085323,\n",
       "  'mona': 530.0,\n",
       "  'xem': 2842.93},\n",
       " 'order_id': 0,\n",
       " 'received': 1.0490499,\n",
       " 'remains': 0.0}"
      ]
     },
     "execution_count": 8,
     "metadata": {},
     "output_type": "execute_result"
    }
   ],
   "source": [
    "zaif.trade(currency_pair='zaif_jpy',\n",
    "           action='ask',\n",
    "           amount=1,\n",
    "           price=1.0419,\n",
    "           limit=1.0415)"
   ]
  },
  {
   "cell_type": "code",
   "execution_count": 9,
   "metadata": {},
   "outputs": [
    {
     "data": {
      "text/plain": [
       "{'funds': {'CICC': 1702.5,\n",
       "  'FSCC': 425.0,\n",
       "  'PEPECASH': 299.0,\n",
       "  'SJCX': 13.0,\n",
       "  'ZAIF': 108756.6,\n",
       "  'btc': 0.0,\n",
       "  'jpy': 32152.62840313,\n",
       "  'mona': 530.0,\n",
       "  'xem': 2842.93},\n",
       " 'order_id': 0,\n",
       " 'received': 1.0490499,\n",
       " 'remains': 0.0}"
      ]
     },
     "execution_count": 9,
     "metadata": {},
     "output_type": "execute_result"
    }
   ],
   "source": [
    "zaif.trade(currency_pair='zaif_jpy',\n",
    "           action='ask',\n",
    "           amount=1,\n",
    "           price=1.0420,\n",
    "           limit=1.0415)"
   ]
  },
  {
   "cell_type": "code",
   "execution_count": 10,
   "metadata": {},
   "outputs": [
    {
     "data": {
      "text/plain": [
       "{'funds': {'CICC': 1702.5,\n",
       "  'FSCC': 425.0,\n",
       "  'PEPECASH': 299.0,\n",
       "  'SJCX': 13.0,\n",
       "  'ZAIF': 108762.6,\n",
       "  'btc': 0.0,\n",
       "  'jpy': 32152.62840313,\n",
       "  'mona': 530.0,\n",
       "  'xem': 2842.93},\n",
       " 'order_id': 1827029,\n",
       " 'received': 0.0,\n",
       " 'remains': 1.0}"
      ]
     },
     "execution_count": 10,
     "metadata": {},
     "output_type": "execute_result"
    }
   ],
   "source": [
    "zaif.trade(currency_pair='zaif_jpy',\n",
    "           action='ask',\n",
    "           amount=1,\n",
    "           price=1.0409,\n",
    "           limit=1.0408)"
   ]
  },
  {
   "cell_type": "code",
   "execution_count": 11,
   "metadata": {},
   "outputs": [
    {
     "data": {
      "text/plain": [
       "{'funds': {'CICC': 1702.5,\n",
       "  'FSCC': 425.0,\n",
       "  'PEPECASH': 299.0,\n",
       "  'SJCX': 13.0,\n",
       "  'ZAIF': 108761.6,\n",
       "  'btc': 0.0,\n",
       "  'jpy': 32152.62840313,\n",
       "  'mona': 530.0,\n",
       "  'xem': 2842.93},\n",
       " 'order_id': 1827032,\n",
       " 'received': 0.0,\n",
       " 'remains': 1.0}"
      ]
     },
     "execution_count": 11,
     "metadata": {},
     "output_type": "execute_result"
    }
   ],
   "source": [
    "zaif.trade(currency_pair='zaif_jpy',\n",
    "           action='ask',\n",
    "           amount=1,\n",
    "           price=1.0410,\n",
    "           limit=1.0408)"
   ]
  },
  {
   "cell_type": "code",
   "execution_count": 12,
   "metadata": {},
   "outputs": [
    {
     "data": {
      "text/plain": [
       "{'funds': {'CICC': 1702.5,\n",
       "  'FSCC': 425.0,\n",
       "  'PEPECASH': 299.0,\n",
       "  'SJCX': 13.0,\n",
       "  'ZAIF': 108762.6,\n",
       "  'btc': 0.0,\n",
       "  'jpy': 32152.62870313,\n",
       "  'mona': 530.0,\n",
       "  'xem': 2842.93},\n",
       " 'order_id': 1827037,\n",
       " 'received': 0.0,\n",
       " 'remains': 1.0}"
      ]
     },
     "execution_count": 12,
     "metadata": {},
     "output_type": "execute_result"
    }
   ],
   "source": [
    "zaif.trade(currency_pair='zaif_jpy',\n",
    "           action='ask',\n",
    "           amount=1,\n",
    "           price=1.0411,\n",
    "           limit=1.0408)"
   ]
  },
  {
   "cell_type": "code",
   "execution_count": 13,
   "metadata": {},
   "outputs": [
    {
     "data": {
      "text/plain": [
       "{'funds': {'CICC': 1702.5,\n",
       "  'FSCC': 425.0,\n",
       "  'PEPECASH': 299.0,\n",
       "  'SJCX': 13.0,\n",
       "  'ZAIF': 108761.6,\n",
       "  'btc': 0.0,\n",
       "  'jpy': 32152.62916113,\n",
       "  'mona': 530.0,\n",
       "  'xem': 2842.93},\n",
       " 'order_id': 0,\n",
       " 'received': 1.040958,\n",
       " 'remains': 0.0}"
      ]
     },
     "execution_count": 13,
     "metadata": {},
     "output_type": "execute_result"
    }
   ],
   "source": [
    "zaif.trade(currency_pair='zaif_jpy',\n",
    "           action='ask',\n",
    "           amount=1,\n",
    "           price=1.0412,\n",
    "           limit=1.0408)"
   ]
  },
  {
   "cell_type": "code",
   "execution_count": 14,
   "metadata": {},
   "outputs": [
    {
     "data": {
      "text/plain": [
       "{'funds': {'CICC': 1702.5,\n",
       "  'FSCC': 425.0,\n",
       "  'PEPECASH': 299.0,\n",
       "  'SJCX': 13.0,\n",
       "  'ZAIF': 108762.6,\n",
       "  'btc': 0.0,\n",
       "  'jpy': 32152.62916113,\n",
       "  'mona': 530.0,\n",
       "  'xem': 2842.93},\n",
       " 'order_id': 1827058,\n",
       " 'received': 0.0,\n",
       " 'remains': 1.0}"
      ]
     },
     "execution_count": 14,
     "metadata": {},
     "output_type": "execute_result"
    }
   ],
   "source": [
    "zaif.trade(currency_pair='zaif_jpy',\n",
    "           action='ask',\n",
    "           amount=1,\n",
    "           price=1.0413,\n",
    "           limit=1.0408)"
   ]
  },
  {
   "cell_type": "code",
   "execution_count": 15,
   "metadata": {},
   "outputs": [
    {
     "data": {
      "text/plain": [
       "{'funds': {'CICC': 1702.5,\n",
       "  'FSCC': 425.0,\n",
       "  'PEPECASH': 299.0,\n",
       "  'SJCX': 13.0,\n",
       "  'ZAIF': 108761.6,\n",
       "  'btc': 0.0,\n",
       "  'jpy': 32152.62916113,\n",
       "  'mona': 530.0,\n",
       "  'xem': 2842.93},\n",
       " 'order_id': 1827060,\n",
       " 'received': 0.0,\n",
       " 'remains': 1.0}"
      ]
     },
     "execution_count": 15,
     "metadata": {},
     "output_type": "execute_result"
    }
   ],
   "source": [
    "zaif.trade(currency_pair='zaif_jpy',\n",
    "           action='ask',\n",
    "           amount=1,\n",
    "           price=1.0414,\n",
    "           limit=1.0408)"
   ]
  },
  {
   "cell_type": "code",
   "execution_count": 16,
   "metadata": {},
   "outputs": [
    {
     "data": {
      "text/plain": [
       "1.0171"
      ]
     },
     "execution_count": 16,
     "metadata": {},
     "output_type": "execute_result"
    }
   ],
   "source": [
    "1.0171"
   ]
  },
  {
   "cell_type": "code",
   "execution_count": 17,
   "metadata": {},
   "outputs": [
    {
     "data": {
      "text/plain": [
       "{'funds': {'CICC': 1702.5,\n",
       "  'FSCC': 425.0,\n",
       "  'PEPECASH': 299.0,\n",
       "  'SJCX': 13.0,\n",
       "  'ZAIF': 109760.6,\n",
       "  'btc': 0.0,\n",
       "  'jpy': 30126.52916113,\n",
       "  'mona': 530.0,\n",
       "  'xem': 2842.93},\n",
       " 'order_id': 1827249,\n",
       " 'received': 0.0,\n",
       " 'remains': 1.0}"
      ]
     },
     "execution_count": 17,
     "metadata": {},
     "output_type": "execute_result"
    }
   ],
   "source": [
    "zaif.trade(currency_pair='zaif_jpy',\n",
    "           action='ask',\n",
    "           amount=1,\n",
    "           price=1.0171,\n",
    "           limit=1.0170)"
   ]
  },
  {
   "cell_type": "code",
   "execution_count": 18,
   "metadata": {},
   "outputs": [
    {
     "data": {
      "text/plain": [
       "{'funds': {'CICC': 1702.5,\n",
       "  'FSCC': 425.0,\n",
       "  'PEPECASH': 299.0,\n",
       "  'SJCX': 13.0,\n",
       "  'ZAIF': 108760.6,\n",
       "  'btc': 0.0,\n",
       "  'jpy': 30125.61716113,\n",
       "  'mona': 530.0,\n",
       "  'xem': 2842.93},\n",
       " 'order_id': 0,\n",
       " 'received': 1010.988,\n",
       " 'remains': 0.0}"
      ]
     },
     "execution_count": 18,
     "metadata": {},
     "output_type": "execute_result"
    }
   ],
   "source": [
    "zaif.trade(currency_pair='zaif_jpy',\n",
    "           action='ask',\n",
    "           amount=1000,\n",
    "           price=1.0120,\n",
    "           limit=1.0119)"
   ]
  },
  {
   "cell_type": "code",
   "execution_count": 19,
   "metadata": {},
   "outputs": [
    {
     "data": {
      "text/plain": [
       "{'funds': {'CICC': 1702.5,\n",
       "  'FSCC': 425.0,\n",
       "  'PEPECASH': 299.0,\n",
       "  'SJCX': 13.0,\n",
       "  'ZAIF': 109760.6,\n",
       "  'btc': 0.0,\n",
       "  'jpy': 30124.70516113,\n",
       "  'mona': 530.0,\n",
       "  'xem': 2842.93},\n",
       " 'order_id': 0,\n",
       " 'received': 1010.988,\n",
       " 'remains': 0.0}"
      ]
     },
     "execution_count": 19,
     "metadata": {},
     "output_type": "execute_result"
    }
   ],
   "source": [
    "zaif.trade(currency_pair='zaif_jpy',\n",
    "           action='ask',\n",
    "           amount=1000,\n",
    "           price=1.0120,\n",
    "           limit=1.0119)"
   ]
  },
  {
   "cell_type": "code",
   "execution_count": 20,
   "metadata": {},
   "outputs": [
    {
     "data": {
      "text/plain": [
       "{'funds': {'CICC': 1702.5,\n",
       "  'FSCC': 425.0,\n",
       "  'PEPECASH': 299.0,\n",
       "  'SJCX': 13.0,\n",
       "  'ZAIF': 123761.6,\n",
       "  'btc': 0.0,\n",
       "  'jpy': 17401.80351113,\n",
       "  'mona': 530.0,\n",
       "  'xem': 2842.93},\n",
       " 'order_id': 1827953,\n",
       " 'received': 0.0,\n",
       " 'remains': 1000.0}"
      ]
     },
     "execution_count": 20,
     "metadata": {},
     "output_type": "execute_result"
    }
   ],
   "source": [
    "zaif.trade(currency_pair='zaif_jpy',\n",
    "           action='ask',\n",
    "           amount=1000,\n",
    "           price=0.91,\n",
    "           limit=0.90)"
   ]
  },
  {
   "cell_type": "code",
   "execution_count": 21,
   "metadata": {},
   "outputs": [
    {
     "data": {
      "text/plain": [
       "{'funds': {'CICC': 1702.5,\n",
       "  'FSCC': 425.0,\n",
       "  'PEPECASH': 299.0,\n",
       "  'SJCX': 13.0,\n",
       "  'ZAIF': 122761.6,\n",
       "  'btc': 0.0,\n",
       "  'jpy': 17421.19321113,\n",
       "  'mona': 530.0,\n",
       "  'xem': 2842.93},\n",
       " 'order_id': 0,\n",
       " 'received': 909.3897,\n",
       " 'remains': 0.0}"
      ]
     },
     "execution_count": 21,
     "metadata": {},
     "output_type": "execute_result"
    }
   ],
   "source": [
    "zaif.trade(currency_pair='zaif_jpy',\n",
    "           action='ask',\n",
    "           amount=1000,\n",
    "           price=0.91,\n",
    "           limit=0.90)"
   ]
  },
  {
   "cell_type": "code",
   "execution_count": null,
   "metadata": {
    "collapsed": true
   },
   "outputs": [],
   "source": []
  }
 ],
 "metadata": {
  "kernelspec": {
   "display_name": "Python 3",
   "language": "python",
   "name": "python3"
  },
  "language_info": {
   "codemirror_mode": {
    "name": "ipython",
    "version": 3
   },
   "file_extension": ".py",
   "mimetype": "text/x-python",
   "name": "python",
   "nbconvert_exporter": "python",
   "pygments_lexer": "ipython3",
   "version": "3.4.2"
  }
 },
 "nbformat": 4,
 "nbformat_minor": 2
}
